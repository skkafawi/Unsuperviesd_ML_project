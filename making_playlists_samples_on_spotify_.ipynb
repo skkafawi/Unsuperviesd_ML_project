{
 "cells": [
  {
   "cell_type": "code",
   "execution_count": null,
   "metadata": {},
   "outputs": [],
   "source": [
    "import pandas as pd\n",
    "import matplotlib.pyplot as plt\n",
    "import seaborn as sns\n",
    "from sklearn import set_config\n",
    "set_config(transform_output='pandas')"
   ]
  },
  {
   "cell_type": "code",
   "execution_count": null,
   "metadata": {},
   "outputs": [],
   "source": [
    "songs = pd.read_csv(\"df_audio_features_5000_cleaned_whitespaces.csv\")\n",
    "songs.columns = songs.columns.str.strip()\n",
    "songs = songs.drop(\"type\", axis=1)\n",
    "songs"
   ]
  },
  {
   "cell_type": "code",
   "execution_count": null,
   "metadata": {},
   "outputs": [],
   "source": [
    "from sklearn.cluster import KMeans\n",
    "kmeans = KMeans(n_clusters=22, n_init=\"auto\", random_state=42)\n",
    "kmeans.fit(songs.loc[:, [\"danceability\", \"energy\", \"acousticness\", \"instrumentalness\", \"liveness\", \"valence\"]])\n",
    "kmeans.labels_\n",
    "labeled_songs = songs.copy()\n",
    "labeled_songs[\"cluster\"] = kmeans.labels_\n",
    "labeled_songs"
   ]
  },
  {
   "cell_type": "code",
   "execution_count": null,
   "metadata": {},
   "outputs": [],
   "source": [
    "import spotipy\n",
    "from spotipy.oauth2 import SpotifyOAuth"
   ]
  },
  {
   "cell_type": "code",
   "execution_count": null,
   "metadata": {},
   "outputs": [],
   "source": [
    "scope = 'playlist-modify-public'\n",
    "username = \"Your user_name\"\n",
    "redirectUri = \"http://localhost:7000/callback\"\n",
    "client_id = \"Your Client_id\"\n",
    "client_secret = \"Your_client_secret\"\n",
    "\n",
    "token = SpotifyOAuth(scope=scope,\n",
    "                     username=username,\n",
    "                     client_id=client_id,\n",
    "                     client_secret=client_secret,\n",
    "                     redirect_uri=redirectUri\n",
    "                     )\n",
    "spotifyObject = spotipy.Spotify(auth_manager = token)"
   ]
  },
  {
   "cell_type": "code",
   "execution_count": null,
   "metadata": {},
   "outputs": [],
   "source": [
    "playlist_collection = {}\n",
    "for i in range(15):\n",
    "    playlist_name = f'my_playlist_cluster_{i}'\n",
    "    playlist_description= 'this is a test list'\n",
    "    playlist_id = spotifyObject.user_playlist_create(user=username,\n",
    "                                                     name=playlist_name,\n",
    "                                                     public=True,\n",
    "                                                     description=playlist_description)['id']\n",
    "    id_list = list(labeled_songs.loc[labeled_songs[\"cluster\"] == i]\n",
    "                                .sample(5)\n",
    "                                .id)\n",
    "    uris = [f'spotify:track:{str(id).strip()}' for id in id_list]\n",
    "    spotifyObject.user_playlist_add_tracks(user=username,playlist_id=playlist_id,tracks=uris)\n",
    "    playlist_collection[playlist_name] = playlist_id"
   ]
  }
 ],
 "metadata": {
  "language_info": {
   "name": "python"
  },
  "orig_nbformat": 4
 },
 "nbformat": 4,
 "nbformat_minor": 2
}
